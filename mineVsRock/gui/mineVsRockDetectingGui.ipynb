{
 "cells": [
  {
   "cell_type": "markdown",
   "id": "cc03a1f0",
   "metadata": {},
   "source": [
    "## Saving Detected in new file\n",
    "(Note:-You can add multiple samples at one time before running)"
   ]
  },
  {
   "cell_type": "code",
   "execution_count": 30,
   "id": "1cf93ac0",
   "metadata": {},
   "outputs": [
    {
     "name": "stderr",
     "output_type": "stream",
     "text": [
      "C:\\Users\\Admin\\AppData\\Local\\Programs\\Python\\Python311\\Lib\\site-packages\\sklearn\\base.py:439: UserWarning: X does not have valid feature names, but GradientBoostingClassifier was fitted with feature names\n",
      "  warnings.warn(\n"
     ]
    }
   ],
   "source": [
    "from tkinter import *\n",
    "from tkinter import filedialog\n",
    "from tkinter import messagebox\n",
    "import joblib\n",
    "import pandas as pd\n",
    "\n",
    "    \n",
    "def open_file():\n",
    "    filePath = filedialog.askopenfile(filetypes=[(\"CSV files\",\".csv\")])\n",
    "    if filePath:\n",
    "        try:\n",
    "           \n",
    "            data = pd.read_csv(filePath,header=None)\n",
    "            predict_data(data)\n",
    "                \n",
    "        except Exception as e:\n",
    "            messagebox.showerror(\"Error\",f\"Failed to open file {e}\")\n",
    "            print(e)\n",
    "            \n",
    "def predict_data(data):\n",
    "    model = joblib.load('model_jb')\n",
    "    detect = model.predict(data)\n",
    "    data['detectedData']= detect\n",
    "    saveFile(data)\n",
    "    \n",
    "def saveFile(data):\n",
    "    savePath = filedialog.asksaveasfile(defaultextension=\".csv\",filetypes=[(\"CSV files\",\".csv\")])\n",
    "    if savePath:\n",
    "        try:\n",
    "            data.to_csv(savePath,index=False)\n",
    "            messagebox.showinfo(\"Sucess\",\"File Saved Sucessfully\")\n",
    "        except Exception as e:\n",
    "            messagebox.showerror(\"Error\",f\"failed to save file:{e}\")\n",
    "            print(e)\n",
    "    \n",
    "\n",
    "            \n",
    "root = Tk()\n",
    "root.title(\"Mine Detector\")\n",
    "root.geometry(\"400x200\")\n",
    "root.maxsize(400,200)\n",
    "root.minsize(400,200)\n",
    "root.config(bg='#CDCDB7')\n",
    "frame1 = Frame(root)\n",
    "frame1.pack()\n",
    "header = Label(root,text='Mine vs Rock Detector',bg='#CDCDB7',foreground='black',font=('Arial',11,\"bold\"))\n",
    "header.pack(padx='4',pady='4')\n",
    "button1 = Button(root,text=\"Open CSV file\",width=12,height=2,bg='lightblue',font=('Arial',15,\"bold\"),command=open_file)\n",
    "button1.pack(pady=30)\n",
    "\n",
    "root.mainloop()"
   ]
  },
  {
   "cell_type": "markdown",
   "id": "3cf48f57",
   "metadata": {},
   "source": [
    "# Showing Message Detected!\n",
    "(Note- save only one sample in csv file)"
   ]
  },
  {
   "cell_type": "code",
   "execution_count": 28,
   "id": "418f5aba",
   "metadata": {},
   "outputs": [
    {
     "name": "stderr",
     "output_type": "stream",
     "text": [
      "C:\\Users\\Admin\\AppData\\Local\\Programs\\Python\\Python311\\Lib\\site-packages\\sklearn\\base.py:439: UserWarning: X does not have valid feature names, but GradientBoostingClassifier was fitted with feature names\n",
      "  warnings.warn(\n"
     ]
    }
   ],
   "source": [
    "from tkinter import *\n",
    "from tkinter import filedialog\n",
    "from tkinter import messagebox\n",
    "import joblib\n",
    "import pandas as pd\n",
    "\n",
    "    \n",
    "def open_file():\n",
    "    filePath = filedialog.askopenfile(filetypes=[(\"CSV files\",\".csv\")])\n",
    "    if filePath:\n",
    "        try:\n",
    "            data = pd.read_csv(filePath,header=None)\n",
    "            predict_data(data)\n",
    "                \n",
    "        except Exception as e:\n",
    "            messagebox.showerror(\"Error\",f\"Failed to open file {e}\")\n",
    "            print(e)\n",
    "            \n",
    "def predict_data(data):\n",
    "    model = joblib.load('model_jb')\n",
    "    detect = model.predict(data)\n",
    "    if(detect=='R'):\n",
    "        messagebox.showinfo(\"Detected\",\"Rock!\")\n",
    "    else:\n",
    "        messagebox.showinfo(\"Detected\",\"Mine!\")\n",
    "\n",
    "   \n",
    "\n",
    "            \n",
    "root = Tk()\n",
    "root.title(\"Mine Detector\")\n",
    "root.geometry(\"400x200\")\n",
    "root.maxsize(400,200)\n",
    "root.minsize(400,200)\n",
    "root.config(bg='#CDCDB7')\n",
    "frame1 = Frame(root)\n",
    "frame1.pack()\n",
    "header = Label(root,text='Mine vs Rock Detector',bg='#CDCDB7',foreground='black',font=('Arial',11,\"bold\"))\n",
    "header.pack(padx='4',pady='4')\n",
    "button1 = Button(root,text=\"Open CSV file\",width=12,height=2,bg='lightblue',font=('Arial',15,\"bold\"),command=open_file)\n",
    "button1.pack(pady=30)\n",
    "root.mainloop()"
   ]
  },
  {
   "cell_type": "code",
   "execution_count": null,
   "id": "db351d51",
   "metadata": {},
   "outputs": [],
   "source": []
  }
 ],
 "metadata": {
  "kernelspec": {
   "display_name": "Python 3 (ipykernel)",
   "language": "python",
   "name": "python3"
  },
  "language_info": {
   "codemirror_mode": {
    "name": "ipython",
    "version": 3
   },
   "file_extension": ".py",
   "mimetype": "text/x-python",
   "name": "python",
   "nbconvert_exporter": "python",
   "pygments_lexer": "ipython3",
   "version": "3.11.3"
  }
 },
 "nbformat": 4,
 "nbformat_minor": 5
}
